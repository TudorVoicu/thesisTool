{
 "cells": [
  {
   "cell_type": "code",
   "execution_count": 1,
   "id": "a485e7ce-e017-49cd-a406-206f45bc0f11",
   "metadata": {},
   "outputs": [],
   "source": [
    "import numpy as np\n",
    "import os\n",
    "import nibabel as nib\n",
    "from dipy.io.streamline import load_tractogram, save_tck\n",
    "from dipy.tracking.streamline import set_number_of_points\n",
    "from dipy.align.streamlinear import StreamlineLinearRegistration\n",
    "from dipy.tracking.streamline import transform_streamlines\n",
    "from dipy.tracking.streamline import (set_number_of_points, unlist_streamlines,\n",
    "                                      Streamlines)\n",
    "from dipy.viz.streamline import (viz_two_bundles, viz_vector_field,\n",
    "                                 viz_displacement_mag)\n",
    "from dipy.align.streamwarp import (bundlewarp, bundlewarp_vector_filed,\n",
    "                                   bundlewarp_shape_analysis)\n",
    "from dipy.data import fetch_bundle_warp_dataset\n",
    "from dipy.io.stateful_tractogram import Space, StatefulTractogram\n",
    "from nibabel.streamlines import Tractogram\n",
    "from dipy.io.stateful_tractogram import StatefulTractogram, Space\n",
    "from time import time\n",
    "from dipy.viz import window, actor\n",
    "import glob"
   ]
  },
  {
   "cell_type": "code",
   "execution_count": 2,
   "id": "fe353098-e918-4a00-a78f-90edf437eca2",
   "metadata": {},
   "outputs": [],
   "source": [
    "tck_1 = r'C:\\Users\\tudor\\Desktop\\thesis\\prepost\\preop\\IFO_left.tck'\n",
    "tck_2 = r'C:\\Users\\tudor\\Desktop\\thesis\\prepost\\preop\\IFO_right.tck'\n",
    "tck_3 = r'C:\\Users\\tudor\\Desktop\\thesis\\prepost\\postop-aligned-v2\\IFO_left_aligned.tck'\n",
    "tck_4 = r'C:\\Users\\tudor\\Desktop\\thesis\\prepost\\postop-aligned-v2\\IFO_right_aligned.tck'\n",
    "save_directory = r'C:\\Users\\tudor\\Desktop\\thesis\\prepost\\preloadedArrays'\n",
    "reference_anatomy = r'C:\\Users\\tudor\\Desktop\\thesis\\prepost\\preop\\fa.nii.gz'\n",
    "reference_anatomy1 = nib.load(reference_anatomy)\n"
   ]
  },
  {
   "cell_type": "code",
   "execution_count": null,
   "id": "37c02ec7-2ade-47ff-a759-3692a43da678",
   "metadata": {},
   "outputs": [],
   "source": [
    "streamlines_list = []\n",
    "streamlines_list2 = []\n",
    "tractogram1 = load_tractogram(tck_1, reference_anatomy1, bbox_valid_check = False)\n",
    "tractogram2 = load_tractogram(tck_2, reference_anatomy1, bbox_valid_check = False)\n",
    "tractogram3 = load_tractogram(tck_3, reference_anatomy1, bbox_valid_check = False)\n",
    "tractogram4 = load_tractogram(tck_4, reference_anatomy1, bbox_valid_check = False)\n",
    "streamlines_list.append([streamline.tolist() for streamline in tractogram1.streamlines])\n",
    "streamlines_list.append([streamline.tolist() for streamline in tractogram2.streamlines])\n",
    "streamlines_list2.append([streamline.tolist() for streamline in tractogram3.streamlines])\n",
    "streamlines_list2.append([streamline.tolist() for streamline in tractogram4.streamlines])"
   ]
  },
  {
   "cell_type": "code",
   "execution_count": 26,
   "id": "a148884a-baea-42e1-ade0-59d19ac73477",
   "metadata": {},
   "outputs": [],
   "source": [
    "streamlines_list[0] = streamlines_list[0][0:3000] \n",
    "streamlines_list[1] = streamlines_list[1][0:3000] \n",
    "streamlines_list2[0] = streamlines_list2[0][0:3000] \n",
    "streamlines_list2[1] = streamlines_list2[1][0:3000] "
   ]
  },
  {
   "cell_type": "code",
   "execution_count": 2,
   "id": "ef6bdd14-9189-4374-bf01-35ab1b8bbe3f",
   "metadata": {},
   "outputs": [],
   "source": [
    "import json"
   ]
  },
  {
   "cell_type": "code",
   "execution_count": 6,
   "id": "98e66c95-dbfa-4fef-a083-f3f35c9b06f4",
   "metadata": {},
   "outputs": [],
   "source": [
    "#streamlines_list = [[[-2,-3,0], [-1,-1,0], [1.2, 1,0], [1.3, 2.3,0]],[[-1.8, -3.5,0], [-1.2,-1.5,0], [0.2, 0.5,0], [2.2, 1.5,0]]]\n",
    "#streamlines_list2 = [[[-2,-3,0], [-1,-1,0], [1, 1,0], [1, 2.5,0]],[[-2, -4,0], [-1,-1,0], [0, 1,0], [2, 1.5,0]]]\n"
   ]
  },
  {
   "cell_type": "code",
   "execution_count": 7,
   "id": "26ee2ab2-734d-4dff-9f05-49e5d46d0c97",
   "metadata": {},
   "outputs": [],
   "source": [
    "json_data = json.dumps(streamlines_list)\n",
    "with open(r'C:\\Users\\tudor\\Desktop\\thesis\\prepost\\preloadedArrays\\pre.json', 'w') as file:\n",
    "    file.write(json_data)"
   ]
  },
  {
   "cell_type": "code",
   "execution_count": 8,
   "id": "09e08e81-d757-4758-9117-20e1dbb9a691",
   "metadata": {},
   "outputs": [],
   "source": [
    "json_data2 = json.dumps(streamlines_list2)\n",
    "with open(r'C:\\Users\\tudor\\Desktop\\thesis\\prepost\\preloadedArrays\\post.json', 'w') as file:\n",
    "    file.write(json_data2)"
   ]
  },
  {
   "cell_type": "code",
   "execution_count": null,
   "id": "08d89657-8fae-4471-a7e8-56894c4301b9",
   "metadata": {},
   "outputs": [],
   "source": []
  }
 ],
 "metadata": {
  "kernelspec": {
   "display_name": "Python 3 (ipykernel)",
   "language": "python",
   "name": "python3"
  },
  "language_info": {
   "codemirror_mode": {
    "name": "ipython",
    "version": 3
   },
   "file_extension": ".py",
   "mimetype": "text/x-python",
   "name": "python",
   "nbconvert_exporter": "python",
   "pygments_lexer": "ipython3",
   "version": "3.8.19"
  }
 },
 "nbformat": 4,
 "nbformat_minor": 5
}
